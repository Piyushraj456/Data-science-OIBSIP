{
 "cells": [
  {
   "cell_type": "code",
   "execution_count": null,
   "metadata": {},
   "outputs": [],
   "source": [
    "#//task 2\n",
    "#Unemployment is measured by the unemployment rate which is the number of people\n",
    "#who are unemployed as a percentage of the total labour force. We have seen a sharp\n",
    "#increase in the unemployment rate during Covid-19, so analyzing the unemployment rate\n",
    "#can be a good data science project."
   ]
  },
  {
   "cell_type": "code",
   "execution_count": null,
   "metadata": {},
   "outputs": [],
   "source": [
    "import pandas as pd\n",
    "import matplotlib.pyplot as plt\n",
    "import seaborn as sns\n",
    "\n",
    "df = pd.read_csv('Oibsip/Unemployment.csv', header=None)\n",
    "\n",
    "df.columns = ['Region', 'Date', 'Frequency', 'Estimated Unemployment Rate (%)',\n",
    "              'Estimated Employed', 'Estimated Labour Participation Rate (%)', 'Area']\n",
    "\n",
    "df['Date'] = df['Date'].str.strip()\n",
    "df['Date'] = pd.to_datetime(df['Date'], format='%d-%m-%Y', errors='coerce')\n",
    "\n",
    "df['Estimated Unemployment Rate (%)'] = pd.to_numeric(df['Estimated Unemployment Rate (%)'], errors='coerce')\n",
    "df['Estimated Unemployment Rate (%)'].fillna(df['Estimated Unemployment Rate (%)'].mean(), inplace=True)\n",
    "\n",
    "print(df.head())\n",
    "print(df.info())\n",
    "print(df.describe())\n",
    "\n",
    "plt.figure(figsize=(10, 6))\n",
    "sns.lineplot(x='Date', y='Estimated Unemployment Rate (%)', hue='Region', data=df[df['Region'] == 'Andhra Pradesh'])\n",
    "plt.title('Unemployment Rate Over Time in Andhra Pradesh')\n",
    "plt.xlabel('Date')\n",
    "plt.ylabel('Unemployment Rate (%)')\n",
    "plt.xticks(rotation=45)\n",
    "plt.tight_layout()\n",
    "plt.show()\n",
    "\n",
    "plt.figure(figsize=(14, 8))\n",
    "sns.lineplot(x='Date', y='Estimated Unemployment Rate (%)', hue='Region', data=df)\n",
    "plt.title('Unemployment Rate Over Time Across Different Regions')\n",
    "plt.xlabel('Date')\n",
    "plt.ylabel('Unemployment Rate (%)')\n",
    "plt.xticks(rotation=45)\n",
    "plt.legend(loc='upper right', bbox_to_anchor=(1.15, 1))\n",
    "plt.tight_layout()\n",
    "plt.show()\n",
    "\n",
    "plt.figure(figsize=(12, 8))\n",
    "avg_unemployment_rate = df.groupby('Region')['Estimated Unemployment Rate (%)'].mean().sort_values()\n",
    "sns.barplot(x=avg_unemployment_rate, y=avg_unemployment_rate.index, palette='viridis')\n",
    "plt.title('Average Unemployment Rate by Region')\n",
    "plt.xlabel('Average Unemployment Rate (%)')\n",
    "plt.ylabel('Region')\n",
    "plt.tight_layout()\n",
    "plt.show()\n",
    "\n",
    "plt.figure(figsize=(10, 8))\n",
    "avg_unemployment_rate = df.groupby('Region')['Estimated Unemployment Rate (%)'].mean()\n",
    "plt.pie(avg_unemployment_rate, labels=avg_unemployment_rate.index, autopct='%1.1f%%', colors=sns.color_palette('pastel'), startangle=140)\n",
    "plt.title('Unemployment Rate Distribution by Region')\n",
    "plt.show()\n",
    "\n",
    "df.to_csv('Oibsip/Cleaned_Unemployment.csv', index=False)\n"
   ]
  }
 ],
 "metadata": {
  "language_info": {
   "name": "python"
  }
 },
 "nbformat": 4,
 "nbformat_minor": 2
}
